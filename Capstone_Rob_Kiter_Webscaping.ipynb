{
 "cells": [
  {
   "cell_type": "code",
   "execution_count": 1,
   "id": "7d24802d-55c3-4f59-984f-d405cf519704",
   "metadata": {
    "tags": []
   },
   "outputs": [
    {
     "name": "stdout",
     "output_type": "stream",
     "text": [
      "Requirement already satisfied: beautifulsoup4 in /home/jupyterlab/conda/envs/python/lib/python3.7/site-packages (4.11.1)\n",
      "Requirement already satisfied: soupsieve>1.2 in /home/jupyterlab/conda/envs/python/lib/python3.7/site-packages (from beautifulsoup4) (2.3.2.post1)\n",
      "Requirement already satisfied: requests in /home/jupyterlab/conda/envs/python/lib/python3.7/site-packages (2.29.0)\n",
      "Requirement already satisfied: charset-normalizer<4,>=2 in /home/jupyterlab/conda/envs/python/lib/python3.7/site-packages (from requests) (3.1.0)\n",
      "Requirement already satisfied: idna<4,>=2.5 in /home/jupyterlab/conda/envs/python/lib/python3.7/site-packages (from requests) (3.4)\n",
      "Requirement already satisfied: urllib3<1.27,>=1.21.1 in /home/jupyterlab/conda/envs/python/lib/python3.7/site-packages (from requests) (1.26.15)\n",
      "Requirement already satisfied: certifi>=2017.4.17 in /home/jupyterlab/conda/envs/python/lib/python3.7/site-packages (from requests) (2023.5.7)\n",
      "Installation complete.\n"
     ]
    }
   ],
   "source": [
    "!pip3 install beautifulsoup4\n",
    "!pip3 install requests\n",
    "print(\"Installation complete.\")"
   ]
  },
  {
   "cell_type": "code",
   "execution_count": 2,
   "id": "4c6a51fe-66c1-416e-a674-cbf64adf39e4",
   "metadata": {
    "tags": []
   },
   "outputs": [
    {
     "name": "stdout",
     "output_type": "stream",
     "text": [
      "All libraries have been imported.\n"
     ]
    }
   ],
   "source": [
    "import sys\n",
    "import requests\n",
    "from bs4 import BeautifulSoup\n",
    "import re\n",
    "import unicodedata\n",
    "import pandas as pd\n",
    "print(\"All libraries have been imported.\")"
   ]
  },
  {
   "cell_type": "code",
   "execution_count": 3,
   "id": "77ff55fc-6659-4758-b187-d07e5c134cad",
   "metadata": {
    "tags": []
   },
   "outputs": [],
   "source": [
    "def date_time(table_cells):\n",
    "    \"\"\"\n",
    "    This function returns the data and time from the HTML  table cell\n",
    "    Input: the  element of a table data cell extracts extra row\n",
    "    \"\"\"\n",
    "    return [data_time.strip() for data_time in list(table_cells.strings)][0:2]\n",
    "\n",
    "def booster_version(table_cells):\n",
    "    \"\"\"\n",
    "    This function returns the booster version from the HTML  table cell \n",
    "    Input: the  element of a table data cell extracts extra row\n",
    "    \"\"\"\n",
    "    out=''.join([booster_version for i,booster_version in enumerate( table_cells.strings) if i%2==0][0:-1])\n",
    "    return out\n",
    "\n",
    "def landing_status(table_cells):\n",
    "    \"\"\"\n",
    "    This function returns the landing status from the HTML table cell \n",
    "    Input: the  element of a table data cell extracts extra row\n",
    "    \"\"\"\n",
    "    out=[i for i in table_cells.strings][0]\n",
    "    return out\n",
    "\n",
    "\n",
    "def get_mass(table_cells):\n",
    "    mass=unicodedata.normalize(\"NFKD\", table_cells.text).strip()\n",
    "    if mass:\n",
    "        mass.find(\"kg\")\n",
    "        new_mass=mass[0:mass.find(\"kg\")+2]\n",
    "    else:\n",
    "        new_mass=0\n",
    "    return new_mass\n",
    "\n",
    "\n",
    "def extract_column_from_header(row):\n",
    "    \"\"\"\n",
    "    This function returns the landing status from the HTML table cell \n",
    "    Input: the  element of a table data cell extracts extra row\n",
    "    \"\"\"\n",
    "    if (row.br):\n",
    "        row.br.extract()\n",
    "    if row.a:\n",
    "        row.a.extract()\n",
    "    if row.sup:\n",
    "        row.sup.extract()\n",
    "        \n",
    "    colunm_name = ' '.join(row.contents)\n",
    "    \n",
    "    # Filter the digit and empty names\n",
    "    if not(colunm_name.strip().isdigit()):\n",
    "        colunm_name = colunm_name.strip()\n",
    "        return colunm_name    "
   ]
  },
  {
   "cell_type": "markdown",
   "id": "518f3359-08a6-4948-a081-39f20bcfa630",
   "metadata": {},
   "source": [
    "## Task 1"
   ]
  },
  {
   "cell_type": "code",
   "execution_count": 4,
   "id": "2649128f-88fe-4928-861d-89b64299075d",
   "metadata": {
    "tags": []
   },
   "outputs": [],
   "source": [
    "# We use the requests.get() method with the provided static_url and assign the response to a object\n",
    "static_url = \"https://en.wikipedia.org/w/index.php?title=List_of_Falcon_9_and_Falcon_Heavy_launches&oldid=1027686922\"\n",
    "response = requests.get(static_url).text"
   ]
  },
  {
   "cell_type": "code",
   "execution_count": 5,
   "id": "a6ffeb18-18c6-434c-b5ab-8d560bd6a010",
   "metadata": {
    "tags": []
   },
   "outputs": [
    {
     "data": {
      "text/plain": [
       "'<!DOCTYPE html>\\n<html class=\"client-nojs vector-feature-language-in-header-enabled vector-feature-la'"
      ]
     },
     "execution_count": 5,
     "metadata": {},
     "output_type": "execute_result"
    }
   ],
   "source": [
    "# Confirm that the response contains HTML markup\n",
    "response[0:100]"
   ]
  },
  {
   "cell_type": "code",
   "execution_count": 6,
   "id": "a96f9b0d-24d8-4ec6-a0e7-35988bc160e6",
   "metadata": {
    "tags": []
   },
   "outputs": [
    {
     "name": "stdout",
     "output_type": "stream",
     "text": [
      "<!DOCTYPE html>\n",
      "<html class=\"client-nojs vector-feature-language-in-header-enabled vector-feature-language-in-main-page-header-disabled vector-feature-page-tools-pinned-disabled vector-feature-toc-pinned-clientpref-1 vector-feature-main-menu-pinned-disabled vector-feature-limited-width-clientpref-1 vector-feature-limited-width-content-enabled vector-feature-custom-font-size-clientpref-1 vector-feature-appearance-pinned-clientpref-1 vector-feature-night-mode-enabled skin-theme-clientpref-day vect \n",
      "==============\n",
      " s\":\"ready\",\"ext.tmh.player.styles\":\"ready\",\"skins.vector.search.codex.styles\":\"ready\",\"skins.vector.styles\":\"ready\",\"skins.vector.icons\":\"ready\",\"jquery.makeCollapsible.styles\":\"ready\",\"ext.wikimediamessages.styles\":\"ready\",\"ext.visualEditor.desktopArticleTarget.noscript\":\"ready\",\"ext.uls.interlanguage\":\"ready\",\"wikibase.client.init\":\"ready\",\"ext.wikimediaBadges\":\"ready\"};RLPAGEMODULES=[\"ext.cite.ux-enhancements\",\"mediawiki.page.media\",\"ext.tmh.player\",\"site\",\"mediawiki.page.ready\",\"jquery.makeC\n"
     ]
    }
   ],
   "source": [
    "# Use BeautifulSoup() to create a BeautifulSoup object from a response text content\n",
    "soup = BeautifulSoup(response, \"html.parser\")\n",
    "print(soup.prettify()[0:500], '\\n==============\\n', soup.prettify()[5000:5500])"
   ]
  },
  {
   "cell_type": "code",
   "execution_count": 7,
   "id": "3666e54c-7e55-4ac4-8304-62df327b36f8",
   "metadata": {
    "tags": []
   },
   "outputs": [
    {
     "data": {
      "text/plain": [
       "<title>List of Falcon 9 and Falcon Heavy launches - Wikipedia</title>"
      ]
     },
     "execution_count": 7,
     "metadata": {},
     "output_type": "execute_result"
    }
   ],
   "source": [
    "# Find the title using .title attribute\n",
    "soup.title"
   ]
  },
  {
   "cell_type": "code",
   "execution_count": 8,
   "id": "6b7f7a64-1ff1-4dd5-b82e-340a7494bed6",
   "metadata": {
    "tags": []
   },
   "outputs": [
    {
     "data": {
      "text/plain": [
       "[<title>List of Falcon 9 and Falcon Heavy launches - Wikipedia</title>]"
      ]
     },
     "execution_count": 8,
     "metadata": {},
     "output_type": "execute_result"
    }
   ],
   "source": [
    "# Find the title using .find_all()\n",
    "title_soup = soup.find_all('title')\n",
    "title_soup"
   ]
  },
  {
   "cell_type": "markdown",
   "id": "8f273eeb-5c71-43d3-a568-857c88c80959",
   "metadata": {
    "tags": []
   },
   "source": [
    "## Task 2"
   ]
  },
  {
   "cell_type": "code",
   "execution_count": 10,
   "id": "3740516c-f0e2-4e32-aa88-feb123bf43bc",
   "metadata": {
    "tags": []
   },
   "outputs": [],
   "source": [
    "# Use the find_all function in the BeautifulSoup object, with element type `table` and assign the result to a list called `html_tables`\n",
    "html_tables = soup.find_all('table')"
   ]
  },
  {
   "cell_type": "code",
   "execution_count": 12,
   "id": "0ec7735c-8822-453e-a977-3a0edd69c48d",
   "metadata": {
    "tags": []
   },
   "outputs": [
    {
     "name": "stdout",
     "output_type": "stream",
     "text": [
      "<table class=\"wikitable plainrowheaders collapsible\" style=\"width: 100%;\">\n",
      "<tbody><tr>\n",
      "<th scope=\"col\">Flight No.\n",
      "</th>\n",
      "<th scope=\"col\">Date and<br/>time (<a href=\"/wiki/Coordinated_Universal_Time\" title=\"Coordinated Universal Time\">UTC</a>)\n",
      "</th>\n",
      "<th scope=\"col\"><a href=\"/wiki/List_of_Falcon_9_first-stage_boosters\" title=\"List of Falcon 9 first-stage boosters\">Version,<br/>Booster</a> <sup class=\"reference\" id=\"cite_ref-booster_11-0\"><a href=\"#cite_note-booster-11\"><span class=\"cite-bracket\">[<\n"
     ]
    }
   ],
   "source": [
    "# Let's print the third table and check its content\n",
    "first_launch_table = html_tables[2]\n",
    "print(str(first_launch_table)[0:500])"
   ]
  },
  {
   "cell_type": "code",
   "execution_count": 13,
   "id": "c105a012-ae6b-457f-8615-e2bcdb1dea09",
   "metadata": {
    "tags": []
   },
   "outputs": [
    {
     "data": {
      "text/plain": [
       "17"
      ]
     },
     "execution_count": 13,
     "metadata": {},
     "output_type": "execute_result"
    }
   ],
   "source": [
    "# Count the number of <th> elements in 'first_launch_table' using .find_all()\n",
    "th_elements = first_launch_table.find_all('th')\n",
    "len(th_elements)"
   ]
  },
  {
   "cell_type": "code",
   "execution_count": 14,
   "id": "ff7c3761-353a-440d-a94d-c91ecb782f02",
   "metadata": {
    "tags": []
   },
   "outputs": [
    {
     "name": "stdout",
     "output_type": "stream",
     "text": [
      "Flight No.\n",
      "Date and time ( )\n",
      "\n",
      "Launch site\n",
      "Payload\n",
      "Payload mass\n",
      "Orbit\n",
      "Customer\n",
      "Launch outcome\n",
      "\n",
      "None\n",
      "None\n",
      "None\n",
      "None\n",
      "None\n",
      "None\n",
      "None\n"
     ]
    }
   ],
   "source": [
    "# Print the 'th' elements from the table\n",
    "for count,i in enumerate(th_elements):\n",
    "    print(extract_column_from_header(i))"
   ]
  },
  {
   "cell_type": "code",
   "execution_count": 15,
   "id": "4d29f07f-3389-4fd5-9b1f-6fc1fa772aae",
   "metadata": {
    "tags": []
   },
   "outputs": [
    {
     "name": "stdout",
     "output_type": "stream",
     "text": [
      "0 Flight No.\n",
      "1 Date and time ( )\n",
      "2  --- --- --- [Discarded]\n",
      "3 Launch site\n",
      "4 Payload\n",
      "5 Payload mass\n",
      "6 Orbit\n",
      "7 Customer\n",
      "8 Launch outcome\n",
      "9  --- --- --- [Discarded]\n",
      "10 None --- --- --- [Discarded]\n",
      "11 None --- --- --- [Discarded]\n",
      "12 None --- --- --- [Discarded]\n",
      "13 None --- --- --- [Discarded]\n",
      "14 None --- --- --- [Discarded]\n",
      "15 None --- --- --- [Discarded]\n",
      "16 None --- --- --- [Discarded]\n"
     ]
    },
    {
     "data": {
      "text/plain": [
       "['Flight No.',\n",
       " 'Date and time ( )',\n",
       " 'Launch site',\n",
       " 'Payload',\n",
       " 'Payload mass',\n",
       " 'Orbit',\n",
       " 'Customer',\n",
       " 'Launch outcome']"
      ]
     },
     "execution_count": 15,
     "metadata": {},
     "output_type": "execute_result"
    }
   ],
   "source": [
    "# Iterate through each th element and apply the provided extract_column_from_header() to get a column name\n",
    "# Append the Non-empty column name (`if name is not None and len(name) > 0`) into a list called column_names\n",
    "column_names = []\n",
    "\n",
    "for count,i in enumerate(th_elements):\n",
    "    extract = extract_column_from_header(i)\n",
    "    if extract is not None and len(extract) > 0:\n",
    "        print(count, extract)\n",
    "        column_names.append(extract)\n",
    "    else:\n",
    "        print(f'{count} {extract} --- --- --- [Discarded]')\n",
    "\n",
    "column_names"
   ]
  },
  {
   "cell_type": "code",
   "execution_count": 16,
   "id": "18072972-267b-417b-b9d2-c94e7b2b1632",
   "metadata": {
    "tags": []
   },
   "outputs": [
    {
     "name": "stdout",
     "output_type": "stream",
     "text": [
      "['Flight No.', 'Date and time ( )', 'Launch site', 'Payload', 'Payload mass', 'Orbit', 'Customer', 'Launch outcome']\n"
     ]
    }
   ],
   "source": [
    "# Check the extracted column names\n",
    "print(column_names)"
   ]
  },
  {
   "cell_type": "markdown",
   "id": "ecfe3cad-bc31-494e-98fd-66567a070974",
   "metadata": {},
   "source": [
    "## TASK 3"
   ]
  },
  {
   "cell_type": "code",
   "execution_count": 17,
   "id": "f143d53c-6f2b-4e30-a1fa-bc11ed36353a",
   "metadata": {
    "tags": []
   },
   "outputs": [
    {
     "name": "stdout",
     "output_type": "stream",
     "text": [
      "All Keys:\n",
      "{'Flight No.': None, 'Date and time ( )': None, 'Launch site': None, 'Payload': None, 'Payload mass': None, 'Orbit': None, 'Customer': None, 'Launch outcome': None} \n",
      "\n",
      "Removed 'Date and time ( )':\n",
      "{'Flight No.': None, 'Launch site': None, 'Payload': None, 'Payload mass': None, 'Orbit': None, 'Customer': None, 'Launch outcome': None} \n",
      "\n",
      "Full Launch Dictionary:\n",
      "{'Flight No.': [], 'Launch site': [], 'Payload': [], 'Payload mass': [], 'Orbit': [], 'Customer': [], 'Launch outcome': [], 'Version Booster': [], 'Booster landing': [], 'Date': [], 'Time': []}\n"
     ]
    }
   ],
   "source": [
    "# Create dictionary from keys from the extracted column names.\n",
    "launch_dict = dict.fromkeys(column_names)\n",
    "print(f'All Keys:\\n{launch_dict} \\n')\n",
    "\n",
    "# Remove an irrelvant column\n",
    "del launch_dict['Date and time ( )']\n",
    "print(f'Removed \\'Date and time ( )\\':\\n{launch_dict} \\n')\n",
    "\n",
    "# Initialize launch_dict with empty lists\n",
    "launch_dict['Flight No.'] = []\n",
    "launch_dict['Launch site'] = []\n",
    "launch_dict['Payload'] = []\n",
    "launch_dict['Payload mass'] = []\n",
    "launch_dict['Orbit'] = []\n",
    "launch_dict['Customer'] = []\n",
    "launch_dict['Launch outcome'] = []\n",
    "\n",
    "# Added new columns\n",
    "launch_dict['Version Booster'] = []\n",
    "launch_dict['Booster landing'] = []\n",
    "launch_dict['Date'] = []\n",
    "launch_dict['Time'] = []\n",
    "\n",
    "print(f'Full Launch Dictionary:\\n{launch_dict}')"
   ]
  },
  {
   "cell_type": "code",
   "execution_count": 18,
   "id": "538433b7-0f60-447e-94c3-4491d4fed116",
   "metadata": {
    "tags": []
   },
   "outputs": [
    {
     "name": "stdout",
     "output_type": "stream",
     "text": [
      ">>>Test SpaceX\n",
      ">>>Test NASA\n",
      ">>>Test NASA\n",
      ">>>Test NASA\n",
      ">>>Test NASA\n",
      ">>>Test MDA\n",
      ">>>Test SES\n",
      ">>>Test Thaicom\n",
      ">>>Test NASA\n",
      ">>>Test Orbcomm\n",
      ">>>Test AsiaSat\n",
      ">>>Test AsiaSat\n",
      ">>>Test NASA\n",
      ">>>Test NASA\n",
      ">>>Test USAF\n",
      ">>>Test ABS\n",
      ">>>Test NASA\n",
      "HERE !! <td><a href=\"/wiki/Turkmenistan_National_Space_Agency\" title=\"Turkmenistan National Space Agency\">Turkmenistan National<br/>Space Agency</a><sup class=\"reference\" id=\"cite_ref-95\"><a href=\"#cite_note-95\"><span class=\"cite-bracket\">[</span>88<span class=\"cite-bracket\">]</span></a></sup>\n",
      "</td>\n",
      "Customer Name: Turkmenistan National Space Agency\n",
      ">>>Test NASA\n",
      ">>>Test Orbcomm\n",
      ">>>Test NASA\n",
      ">>>Test SES\n",
      ">>>Test NASA\n",
      ">>>Test SKY Perfect JSAT Group\n",
      ">>>Test Thaicom\n",
      ">>>Test ABS\n",
      ">>>Test NASA\n",
      ">>>Test SKY Perfect JSAT Group\n",
      ">>>Test Iridium Communications\n",
      ">>>Test NASA\n",
      ">>>Test EchoStar\n",
      ">>>Test SES\n",
      ">>>Test NRO\n",
      ">>>Test Inmarsat\n",
      ">>>Test NASA\n",
      ">>>Test Bulsatcom\n",
      ">>>Test Iridium Communications\n",
      ">>>Test Intelsat\n",
      ">>>Test NASA\n",
      ">>>Test NSPO\n",
      ">>>Test USAF\n",
      ">>>Test Iridium Communications\n",
      ">>>Test SES S.A.\n",
      ">>>Test KT Corporation\n",
      ">>>Test NASA\n",
      ">>>Test Iridium Communications\n",
      ">>>Test Northrop Grumman\n",
      ">>>Test SES\n",
      ">>>Test Hisdesat\n",
      ">>>Test Hispasat\n",
      ">>>Test Iridium Communications\n",
      ">>>Test NASA\n",
      ">>>Test NASA\n",
      ">>>Test Thales-Alenia\n",
      ">>>Test Iridium Communications\n",
      ">>>Test SES\n",
      ">>>Test NASA\n",
      ">>>Test Telesat\n",
      ">>>Test Iridium Communications\n",
      ">>>Test Telkom Indonesia\n",
      ">>>Test Telesat\n",
      ">>>Test CONAE\n",
      ">>>Test Es'hailSat\n",
      ">>>Test Spaceflight Industries\n",
      ">>>Test NASA\n",
      ">>>Test USAF\n",
      ">>>Test Iridium Communications\n",
      ">>>Test PSN\n",
      ">>>Test NASA\n",
      ">>>Test NASA\n",
      ">>>Test SpaceX\n",
      ">>>Test Canadian Space Agency\n",
      ">>>Test NASA\n",
      ">>>Test Spacecom\n",
      ">>>Test SpaceX\n",
      ">>>Test NASA\n",
      ">>>Test Sky Perfect JSAT\n",
      ">>>Test SpaceX\n",
      ">>>Test NASA\n",
      ">>>Test SpaceX\n",
      ">>>Test SpaceX\n",
      ">>>Test NASA\n",
      ">>>Test SpaceX\n",
      ">>>Test SpaceX\n",
      ">>>Test NASA\n",
      ">>>Test SpaceX\n",
      ">>>Test SpaceX\n",
      ">>>Test U.S. Space Force\n",
      ">>>Test Republic of Korea Army\n",
      ">>>Test SpaceX\n",
      ">>>Test SpaceX\n",
      ">>>Test CONAE\n",
      ">>>Test SpaceX\n",
      ">>>Test SpaceX\n",
      ">>>Test SpaceX\n",
      ">>>Test SpaceX\n",
      ">>>Test USSF\n",
      ">>>Test NASA\n",
      ">>>Test NASA\n",
      ">>>Test SpaceX\n",
      ">>>Test NASA\n",
      ">>>Test Sirius XM\n",
      ">>>Test NRO\n",
      ">>>Test Türksat\n",
      ">>>Test SpaceX\n",
      "HERE !! <td>Various\n",
      "</td>\n",
      "Customer Name: Various\n",
      ">>>Test SpaceX\n",
      ">>>Test SpaceX\n",
      ">>>Test SpaceX\n",
      ">>>Test SpaceX\n",
      ">>>Test SpaceX\n",
      ">>>Test SpaceX\n",
      ">>>Test SpaceX\n",
      ">>>Test NASA\n",
      ">>>Test SpaceX\n",
      ">>>Test SpaceX\n",
      ">>>Test SpaceX\n",
      ">>>Test SpaceX\n",
      ">>>Test SpaceX\n",
      ">>>Test NASA\n",
      ">>>Test Sirius XM\n"
     ]
    }
   ],
   "source": [
    "# Extract the tables\n",
    "extracted_row = 0\n",
    "\n",
    "# Extract each table\n",
    "for table_number,table in enumerate(soup.find_all('table',\"wikitable plainrowheaders collapsible\")):\n",
    "\n",
    "    # Get table row\n",
    "    for rows in table.find_all(\"tr\"):\n",
    "\n",
    "        # (1) =================================================================\n",
    "        # Check to see if first table heading is as number corresponding to launch a number\n",
    "        if rows.th:\n",
    "            if rows.th.string:\n",
    "                flight_number = rows.th.string.strip()\n",
    "                flag = flight_number.isdigit()\n",
    "        else:\n",
    "            flag = False\n",
    "\n",
    "        # (2) =================================================================\n",
    "        # Get table element \n",
    "        row = rows.find_all('td')\n",
    "\n",
    "        # (3) =================================================================\n",
    "        # If it is number save cells in a dictonary \n",
    "        if flag:\n",
    "            extracted_row += 1\n",
    "\n",
    "            # (1) Flight Number value |=========| Append the flight_number into launch_dict with key `Flight No.`\n",
    "            datatimelist = date_time(row[0])\n",
    "            launch_dict['Flight No.']+=[flight_number]\n",
    "\n",
    "            # (10) Date value |=========| Append the date into launch_dict with key `Date`\n",
    "            date = datatimelist[0].strip(',')\n",
    "            launch_dict['Date']+=[date]\n",
    "\n",
    "            # (11) Time value |=========| Append the time into launch_dict with key `Time`\n",
    "            time = datatimelist[1]\n",
    "            launch_dict['Time']+=[time]\n",
    "\n",
    "            # (8) Booster version |=========| Append the bv into launch_dict with key `Version Booster`\n",
    "            bv=booster_version(row[1])\n",
    "            if not(bv):\n",
    "                bv=row[1].a.string\n",
    "            launch_dict['Version Booster']+=[bv]\n",
    "\n",
    "            # (2) Launch Site |=========| Append the bv into launch_dict with key `Launch Site`\n",
    "            launch_site = row[2].a.string\n",
    "            launch_dict['Launch site']+=[launch_site]\n",
    "\n",
    "            # (3) Payload |=========| Append the payload into launch_dict with key `Payload`\n",
    "            payload = row[3].a.string\n",
    "            launch_dict['Payload']+=[payload]\n",
    "\n",
    "            # (4) Payload Mass |=========| Append the payload_mass into launch_dict with key `Payload mass`\n",
    "            payload_mass = get_mass(row[4])\n",
    "            launch_dict['Payload mass']+=[payload_mass]\n",
    "\n",
    "            # (5) Orbit |=========| Append the orbit into launch_dict with key `Orbit`\n",
    "            orbit = row[5].a.string\n",
    "            launch_dict['Orbit']+=[orbit]\n",
    "\n",
    "            # (6) *** Customer |=========| Append the customer into launch_dict with key `Customer`\n",
    "            if str(row[6])[0:7] == '<td>Var':\n",
    "                print('HERE !!', row[6])\n",
    "                customer = 'Various'\n",
    "                print(f'Customer Name: {customer}')\n",
    "            elif str(row[6])[0:26] == '<td><a href=\"/wiki/Turkmen':\n",
    "                print('HERE !!', row[6])\n",
    "                customer = 'Turkmenistan National Space Agency'\n",
    "                print(f'Customer Name: {customer}')\n",
    "            else:\n",
    "                print('>>>Test', row[6].a.string)\n",
    "                customer = row[6].a.string\n",
    "            launch_dict['Customer']+=[customer]\n",
    "\n",
    "            # (7) *** Launch outcome |=========| Append the launch_outcome into launch_dict with key `Launch outcome`\n",
    "            launch_outcome = list(row[7].strings)[0]\n",
    "            launch_dict['Launch outcome']+=[launch_outcome]\n",
    "\n",
    "            # (9) *** Booster landing |=========| Append the launch_outcome into launch_dict with key `Booster landing`\n",
    "            booster_landing = landing_status(row[8])\n",
    "            launch_dict['Booster landing']+=[booster_landing]"
   ]
  },
  {
   "cell_type": "code",
   "execution_count": 19,
   "id": "02478bc9-a173-45ec-9599-cf0c0b56761b",
   "metadata": {
    "tags": []
   },
   "outputs": [
    {
     "name": "stdout",
     "output_type": "stream",
     "text": [
      "Flight No.: 121\n",
      "Launch site: 121\n",
      "Payload: 121\n",
      "Payload mass: 121\n",
      "Orbit: 121\n",
      "Customer: 121\n",
      "Launch outcome: 121\n",
      "Version Booster: 121\n",
      "Booster landing: 121\n",
      "Date: 121\n",
      "Time: 121\n"
     ]
    }
   ],
   "source": [
    "# Count the number of data points in each column as a check for any errors\n",
    "for count,i in enumerate(launch_dict):\n",
    "    column_name = list(launch_dict.keys())[count]\n",
    "    length_column = str(len(launch_dict[column_name]))\n",
    "    print(f'{column_name}: {length_column}')"
   ]
  },
  {
   "cell_type": "code",
   "execution_count": 20,
   "id": "7f0763da-44f7-4120-aaba-ad4a0feae2e5",
   "metadata": {
    "tags": []
   },
   "outputs": [
    {
     "data": {
      "text/plain": [
       "['Flight No.',\n",
       " 'Launch site',\n",
       " 'Payload',\n",
       " 'Payload mass',\n",
       " 'Orbit',\n",
       " 'Customer',\n",
       " 'Launch outcome',\n",
       " 'Version Booster',\n",
       " 'Booster landing',\n",
       " 'Date',\n",
       " 'Time']"
      ]
     },
     "execution_count": 20,
     "metadata": {},
     "output_type": "execute_result"
    }
   ],
   "source": [
    "# Get the keys of the dictionary in a list\n",
    "list(launch_dict.keys())"
   ]
  },
  {
   "cell_type": "code",
   "execution_count": 21,
   "id": "2512dd70-3c99-408c-bb17-a67b97985346",
   "metadata": {
    "tags": []
   },
   "outputs": [
    {
     "data": {
      "text/html": [
       "<div>\n",
       "<style scoped>\n",
       "    .dataframe tbody tr th:only-of-type {\n",
       "        vertical-align: middle;\n",
       "    }\n",
       "\n",
       "    .dataframe tbody tr th {\n",
       "        vertical-align: top;\n",
       "    }\n",
       "\n",
       "    .dataframe thead th {\n",
       "        text-align: right;\n",
       "    }\n",
       "</style>\n",
       "<table border=\"1\" class=\"dataframe\">\n",
       "  <thead>\n",
       "    <tr style=\"text-align: right;\">\n",
       "      <th></th>\n",
       "      <th>Flight No.</th>\n",
       "      <th>Launch site</th>\n",
       "      <th>Payload</th>\n",
       "      <th>Payload mass</th>\n",
       "      <th>Orbit</th>\n",
       "      <th>Customer</th>\n",
       "      <th>Launch outcome</th>\n",
       "      <th>Version Booster</th>\n",
       "      <th>Booster landing</th>\n",
       "      <th>Date</th>\n",
       "      <th>Time</th>\n",
       "    </tr>\n",
       "  </thead>\n",
       "  <tbody>\n",
       "    <tr>\n",
       "      <th>0</th>\n",
       "      <td>1</td>\n",
       "      <td>CCAFS</td>\n",
       "      <td>Dragon Spacecraft Qualification Unit</td>\n",
       "      <td>0</td>\n",
       "      <td>LEO</td>\n",
       "      <td>SpaceX</td>\n",
       "      <td>Success\\n</td>\n",
       "      <td>F9 v1.07B0003.18</td>\n",
       "      <td>Failure</td>\n",
       "      <td>4 June 2010</td>\n",
       "      <td>18:45</td>\n",
       "    </tr>\n",
       "    <tr>\n",
       "      <th>1</th>\n",
       "      <td>2</td>\n",
       "      <td>CCAFS</td>\n",
       "      <td>Dragon</td>\n",
       "      <td>0</td>\n",
       "      <td>LEO</td>\n",
       "      <td>NASA</td>\n",
       "      <td>Success</td>\n",
       "      <td>F9 v1.07B0004.18</td>\n",
       "      <td>Failure</td>\n",
       "      <td>8 December 2010</td>\n",
       "      <td>15:43</td>\n",
       "    </tr>\n",
       "    <tr>\n",
       "      <th>2</th>\n",
       "      <td>3</td>\n",
       "      <td>CCAFS</td>\n",
       "      <td>Dragon</td>\n",
       "      <td>525 kg</td>\n",
       "      <td>LEO</td>\n",
       "      <td>NASA</td>\n",
       "      <td>Success</td>\n",
       "      <td>F9 v1.07B0005.18</td>\n",
       "      <td>No attempt\\n</td>\n",
       "      <td>22 May 2012</td>\n",
       "      <td>07:44</td>\n",
       "    </tr>\n",
       "    <tr>\n",
       "      <th>3</th>\n",
       "      <td>4</td>\n",
       "      <td>CCAFS</td>\n",
       "      <td>SpaceX CRS-1</td>\n",
       "      <td>4,700 kg</td>\n",
       "      <td>LEO</td>\n",
       "      <td>NASA</td>\n",
       "      <td>Success\\n</td>\n",
       "      <td>F9 v1.07B0006.18</td>\n",
       "      <td>No attempt</td>\n",
       "      <td>8 October 2012</td>\n",
       "      <td>00:35</td>\n",
       "    </tr>\n",
       "    <tr>\n",
       "      <th>4</th>\n",
       "      <td>5</td>\n",
       "      <td>CCAFS</td>\n",
       "      <td>SpaceX CRS-2</td>\n",
       "      <td>4,877 kg</td>\n",
       "      <td>LEO</td>\n",
       "      <td>NASA</td>\n",
       "      <td>Success\\n</td>\n",
       "      <td>F9 v1.07B0007.18</td>\n",
       "      <td>No attempt\\n</td>\n",
       "      <td>1 March 2013</td>\n",
       "      <td>15:10</td>\n",
       "    </tr>\n",
       "    <tr>\n",
       "      <th>...</th>\n",
       "      <td>...</td>\n",
       "      <td>...</td>\n",
       "      <td>...</td>\n",
       "      <td>...</td>\n",
       "      <td>...</td>\n",
       "      <td>...</td>\n",
       "      <td>...</td>\n",
       "      <td>...</td>\n",
       "      <td>...</td>\n",
       "      <td>...</td>\n",
       "      <td>...</td>\n",
       "    </tr>\n",
       "    <tr>\n",
       "      <th>116</th>\n",
       "      <td>117</td>\n",
       "      <td>CCSFS</td>\n",
       "      <td>Starlink</td>\n",
       "      <td>15,600 kg</td>\n",
       "      <td>LEO</td>\n",
       "      <td>SpaceX</td>\n",
       "      <td>Success\\n</td>\n",
       "      <td>F9 B5B1051.10657</td>\n",
       "      <td>Success</td>\n",
       "      <td>9 May 2021</td>\n",
       "      <td>06:42</td>\n",
       "    </tr>\n",
       "    <tr>\n",
       "      <th>117</th>\n",
       "      <td>118</td>\n",
       "      <td>KSC</td>\n",
       "      <td>Starlink</td>\n",
       "      <td>~14,000 kg</td>\n",
       "      <td>LEO</td>\n",
       "      <td>SpaceX</td>\n",
       "      <td>Success\\n</td>\n",
       "      <td>F9 B5B1058.8660</td>\n",
       "      <td>Success</td>\n",
       "      <td>15 May 2021</td>\n",
       "      <td>22:56</td>\n",
       "    </tr>\n",
       "    <tr>\n",
       "      <th>118</th>\n",
       "      <td>119</td>\n",
       "      <td>CCSFS</td>\n",
       "      <td>Starlink</td>\n",
       "      <td>15,600 kg</td>\n",
       "      <td>LEO</td>\n",
       "      <td>SpaceX</td>\n",
       "      <td>Success\\n</td>\n",
       "      <td>F9 B5B1063.2665</td>\n",
       "      <td>Success</td>\n",
       "      <td>26 May 2021</td>\n",
       "      <td>18:59</td>\n",
       "    </tr>\n",
       "    <tr>\n",
       "      <th>119</th>\n",
       "      <td>120</td>\n",
       "      <td>KSC</td>\n",
       "      <td>SpaceX CRS-22</td>\n",
       "      <td>3,328 kg</td>\n",
       "      <td>LEO</td>\n",
       "      <td>NASA</td>\n",
       "      <td>Success\\n</td>\n",
       "      <td>F9 B5B1067.1668</td>\n",
       "      <td>Success</td>\n",
       "      <td>3 June 2021</td>\n",
       "      <td>17:29</td>\n",
       "    </tr>\n",
       "    <tr>\n",
       "      <th>120</th>\n",
       "      <td>121</td>\n",
       "      <td>CCSFS</td>\n",
       "      <td>SXM-8</td>\n",
       "      <td>7,000 kg</td>\n",
       "      <td>GTO</td>\n",
       "      <td>Sirius XM</td>\n",
       "      <td>Success\\n</td>\n",
       "      <td>F9 B5</td>\n",
       "      <td>Success</td>\n",
       "      <td>6 June 2021</td>\n",
       "      <td>04:26</td>\n",
       "    </tr>\n",
       "  </tbody>\n",
       "</table>\n",
       "<p>121 rows × 11 columns</p>\n",
       "</div>"
      ],
      "text/plain": [
       "    Flight No. Launch site                               Payload Payload mass  \\\n",
       "0            1       CCAFS  Dragon Spacecraft Qualification Unit            0   \n",
       "1            2       CCAFS                                Dragon            0   \n",
       "2            3       CCAFS                                Dragon       525 kg   \n",
       "3            4       CCAFS                          SpaceX CRS-1     4,700 kg   \n",
       "4            5       CCAFS                          SpaceX CRS-2     4,877 kg   \n",
       "..         ...         ...                                   ...          ...   \n",
       "116        117       CCSFS                              Starlink    15,600 kg   \n",
       "117        118         KSC                              Starlink   ~14,000 kg   \n",
       "118        119       CCSFS                              Starlink    15,600 kg   \n",
       "119        120         KSC                         SpaceX CRS-22     3,328 kg   \n",
       "120        121       CCSFS                                 SXM-8     7,000 kg   \n",
       "\n",
       "    Orbit   Customer Launch outcome   Version Booster Booster landing  \\\n",
       "0     LEO     SpaceX      Success\\n  F9 v1.07B0003.18         Failure   \n",
       "1     LEO       NASA        Success  F9 v1.07B0004.18         Failure   \n",
       "2     LEO       NASA        Success  F9 v1.07B0005.18    No attempt\\n   \n",
       "3     LEO       NASA      Success\\n  F9 v1.07B0006.18      No attempt   \n",
       "4     LEO       NASA      Success\\n  F9 v1.07B0007.18    No attempt\\n   \n",
       "..    ...        ...            ...               ...             ...   \n",
       "116   LEO     SpaceX      Success\\n  F9 B5B1051.10657         Success   \n",
       "117   LEO     SpaceX      Success\\n   F9 B5B1058.8660         Success   \n",
       "118   LEO     SpaceX      Success\\n   F9 B5B1063.2665         Success   \n",
       "119   LEO       NASA      Success\\n   F9 B5B1067.1668         Success   \n",
       "120   GTO  Sirius XM      Success\\n             F9 B5         Success   \n",
       "\n",
       "                Date   Time  \n",
       "0        4 June 2010  18:45  \n",
       "1    8 December 2010  15:43  \n",
       "2        22 May 2012  07:44  \n",
       "3     8 October 2012  00:35  \n",
       "4       1 March 2013  15:10  \n",
       "..               ...    ...  \n",
       "116       9 May 2021  06:42  \n",
       "117      15 May 2021  22:56  \n",
       "118      26 May 2021  18:59  \n",
       "119      3 June 2021  17:29  \n",
       "120      6 June 2021  04:26  \n",
       "\n",
       "[121 rows x 11 columns]"
      ]
     },
     "execution_count": 21,
     "metadata": {},
     "output_type": "execute_result"
    }
   ],
   "source": [
    "# Convert dictionary to DataFrame\n",
    "df = pd.DataFrame(launch_dict)\n",
    "df"
   ]
  },
  {
   "cell_type": "markdown",
   "id": "d99f151e-1d1f-4d5a-b0fa-fd84a9b122c3",
   "metadata": {
    "tags": []
   },
   "source": [
    "## Export DataFrame to .CSV"
   ]
  },
  {
   "cell_type": "code",
   "execution_count": 23,
   "id": "d7481476-2271-4b07-9a0a-172108962473",
   "metadata": {
    "tags": []
   },
   "outputs": [],
   "source": [
    "# Export DataFrame as .csv\n",
    "df.to_csv('spacex_web_scraped.csv', index=False)"
   ]
  },
  {
   "cell_type": "code",
   "execution_count": null,
   "id": "9b26710f-a30b-4153-9dd4-3a917d650ca4",
   "metadata": {},
   "outputs": [],
   "source": []
  }
 ],
 "metadata": {
  "kernelspec": {
   "display_name": "Python",
   "language": "python",
   "name": "conda-env-python-py"
  },
  "language_info": {
   "codemirror_mode": {
    "name": "ipython",
    "version": 3
   },
   "file_extension": ".py",
   "mimetype": "text/x-python",
   "name": "python",
   "nbconvert_exporter": "python",
   "pygments_lexer": "ipython3",
   "version": "3.7.12"
  }
 },
 "nbformat": 4,
 "nbformat_minor": 5
}
